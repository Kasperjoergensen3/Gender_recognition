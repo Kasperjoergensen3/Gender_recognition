{
 "cells": [
  {
   "cell_type": "code",
   "execution_count": 26,
   "metadata": {},
   "outputs": [],
   "source": [
    "import tensorflow as tf\n",
    "from tensorflow import keras\n",
    "from keras import layers\n",
    "import numpy as np\n",
    "from preprocessing import get_preprocessed_dataset"
   ]
  },
  {
   "cell_type": "code",
   "execution_count": 27,
   "metadata": {},
   "outputs": [],
   "source": [
    "img_size = 256\n",
    "(\n",
    "X_train,\n",
    "gender_train,\n",
    "age_train,\n",
    "X_test,\n",
    "gender_test,\n",
    "age_test ) = get_preprocessed_dataset(\"/data\", n_max = 200, new_size = (img_size,img_size))"
   ]
  },
  {
   "cell_type": "code",
   "execution_count": 28,
   "metadata": {},
   "outputs": [],
   "source": [
    "\"\"\"\n",
    "Functions to generate model architechtures:\n",
    "\"\"\"\n",
    "\n",
    "# function to create standard CNN network\n",
    "# idea: expand function such that its easy to change the architechture\n",
    "def CNN_classic():\n",
    "    model = keras.Sequential([\n",
    "        layers.Rescaling(1./255),\n",
    "        #layers.Rescaling(scale = 1./127.5, offset = -1), do this if we want to be consistent with the transfer learning network\n",
    "        layers.Conv2D(16, 3, padding='same', activation='relu'),\n",
    "        layers.MaxPooling2D(),\n",
    "        layers.Conv2D(32, 3, padding='same', activation='relu'),\n",
    "        layers.MaxPooling2D(),\n",
    "        layers.Conv2D(64, 3, padding='same', activation='relu'),\n",
    "        layers.MaxPooling2D(),\n",
    "        layers.Flatten(),\n",
    "        layers.Dense(128, activation='relu'),\n",
    "        layers.Dense(1, activation = 'sigmoid')], \n",
    "        name = \"CNN_classic\",\n",
    "    )\n",
    "    return model\n",
    "\n",
    "def CNN_transfer(img_size):\n",
    "    # follows this guide https://keras.io/guides/transfer_learning/\n",
    "\n",
    "    # initialize base model from keras API\n",
    "    base_model = keras.applications.Xception(\n",
    "        weights=\"imagenet\",  # Load weights pre-trained on ImageNet.\n",
    "        input_shape=(img_size, img_size, 3),\n",
    "        include_top=False,\n",
    "    )\n",
    "\n",
    "    # freeze weights\n",
    "    base_model.trainable = False\n",
    "\n",
    "    # define rest of model from here\n",
    "    input = layers.Input(shape = (img_size,img_size,3))\n",
    "    scale_layer = keras.layers.Rescaling(scale=1 / 127.5, offset=-1)\n",
    "    x = scale_layer(input)\n",
    "    x = base_model(x)#,training = false) maybe neccesary if we want to fine tune model\n",
    "    x = layers.GlobalAveragePooling2D()(x)\n",
    "    outputs = layers.Dense(1, activation=\"sigmoid\")(x)\n",
    "\n",
    "    model = keras.Model(input, outputs, name = \"CNN_transfer\")\n",
    "    return model\n",
    "\n",
    "\n",
    "\n",
    "# function to create the architechture of the multitask network\n",
    "def CNN_multitask(img_size):\n",
    "\n",
    "    inputs = tf.keras.layers.Input(shape=(img_size, img_size, 3), name='input')\n",
    "    main_branch = keras.layers.Rescaling(scale=1 / 127.5, offset=-1)(inputs)\n",
    "    main_branch = tf.keras.layers.Conv2D(16, 3, padding = \"same\", activation=\"relu\")(main_branch)\n",
    "    main_branch = tf.keras.layers.MaxPooling2D()(main_branch)\n",
    "    main_branch = tf.keras.layers.Conv2D(32, 3, padding = \"same\", activation=\"relu\")(main_branch)\n",
    "    main_branch = tf.keras.layers.MaxPooling2D()(main_branch)\n",
    "    main_branch = tf.keras.layers.Conv2D(64, 3, padding = \"same\", activation=\"relu\")(main_branch)\n",
    "    main_branch = tf.keras.layers.Flatten()(main_branch)\n",
    "    main_branch = tf.keras.layers.Dense(128, activation='relu')(main_branch)\n",
    "\n",
    "    task_1_branch = tf.keras.layers.Dense(256, activation='relu')(main_branch)\n",
    "    task_1_branch = tf.keras.layers.Dense(128, activation='relu')(task_1_branch)\n",
    "    task_1_branch = tf.keras.layers.Dense(1, activation='sigmoid', name='gender')(task_1_branch)\n",
    "\n",
    "    task_2_branch = tf.keras.layers.Dense(256, activation='relu')(main_branch)\n",
    "    task_2_branch = tf.keras.layers.Dense(128, activation='relu')(task_2_branch)\n",
    "    task_2_branch = tf.keras.layers.Dense(8, activation='softmax', name='age')(task_2_branch)\n",
    "\n",
    "    model = tf.keras.Model(inputs = inputs, outputs = [task_1_branch, task_2_branch], name = \"CNN_multitask\")\n",
    "    return model"
   ]
  },
  {
   "cell_type": "code",
   "execution_count": 29,
   "metadata": {},
   "outputs": [],
   "source": [
    "\"\"\"\n",
    "Helper functions\n",
    "\"\"\"\n",
    "\n",
    "# fit all the models to their respective datasets\n",
    "# ** More arguments to adjust fitting procedure **\n",
    "def fit_models(model_data, no_epochs, verbose = 0):\n",
    "\n",
    "    histories = {}\n",
    "    for model,data in model_data.items():\n",
    "        print(f\"Training on Model: {model.name}\")\n",
    "        X_train, y_train, X_test, y_test = data\n",
    "        \n",
    "        histories[model.name] = model.fit(\n",
    "                                    X_train,\n",
    "                                    y_train,\n",
    "                                    epochs = no_epochs,\n",
    "                                    verbose = verbose,\n",
    "                                    validation_data = (X_test,y_test))\n",
    "        print()\n",
    "    return histories\n",
    "\n",
    "def compile_model(model, loss=keras.losses.BinaryCrossentropy(), optimizer = 'adam', metrics = ['accuracy']):\n",
    "    model.compile(\n",
    "        optimizer = optimizer,\n",
    "        loss = loss,\n",
    "        metrics = metrics)\n",
    "\n",
    "def cross_validate(data_train, n_folds = 5, shuffle = False):\n",
    "    # get array of indexes\n",
    "    idx = np.arange(0,len(data_train))\n",
    "    # randomise order\n",
    "    if shuffle:\n",
    "        np.random.shuffle(idx)\n",
    "    # split into equal sized arrays (or almost equal sized)\n",
    "    split_idxs = np.array_split(idx, n_folds)\n",
    "    # initialize array to store train test index pairs\n",
    "    train_test_fold_idx = []\n",
    "    # loop over folds\n",
    "    for fold in split_idxs:\n",
    "        # extract test indexes\n",
    "        test_idx = fold\n",
    "        # remove test indexes to gain training indexes\n",
    "        train_idx = idx[~np.isin(idx,fold)]\n",
    "        # append tuple to fold array\n",
    "        train_test_fold_idx.append((train_idx, test_idx))\n",
    "    return train_test_fold_idx\n"
   ]
  },
  {
   "cell_type": "code",
   "execution_count": 30,
   "metadata": {},
   "outputs": [
    {
     "name": "stdout",
     "output_type": "stream",
     "text": [
      "Model: \"CNN_transfer\"\n",
      "_________________________________________________________________\n",
      " Layer (type)                Output Shape              Param #   \n",
      "=================================================================\n",
      " input_14 (InputLayer)       [(None, 256, 256, 3)]     0         \n",
      "                                                                 \n",
      " rescaling_11 (Rescaling)    (None, 256, 256, 3)       0         \n",
      "                                                                 \n",
      " xception (Functional)       (None, 8, 8, 2048)        20861480  \n",
      "                                                                 \n",
      " global_average_pooling2d (G  (None, 2048)             0         \n",
      " lobalAveragePooling2D)                                          \n",
      "                                                                 \n",
      " dense_41 (Dense)            (None, 1)                 2049      \n",
      "                                                                 \n",
      "=================================================================\n",
      "Total params: 20,863,529\n",
      "Trainable params: 2,049\n",
      "Non-trainable params: 20,861,480\n",
      "_________________________________________________________________\n"
     ]
    }
   ],
   "source": [
    "model = CNN_transfer(img_size)\n",
    "model.summary()"
   ]
  },
  {
   "cell_type": "code",
   "execution_count": 31,
   "metadata": {},
   "outputs": [
    {
     "name": "stdout",
     "output_type": "stream",
     "text": [
      "Training on Model: CNN_classic\n",
      "Epoch 1/2\n",
      "5/5 [==============================] - 8s 1s/step - loss: 1.4281 - accuracy: 0.5429 - val_loss: 0.7967 - val_accuracy: 0.5333\n",
      "Epoch 2/2\n",
      "5/5 [==============================] - 9s 2s/step - loss: 0.7709 - accuracy: 0.5000 - val_loss: 0.7076 - val_accuracy: 0.4667\n",
      "\n",
      "Training on Model: CNN_multitask\n",
      "Epoch 1/2\n",
      "5/5 [==============================] - 15s 2s/step - loss: 6.6182 - gender_loss: 2.3056 - age_loss: 4.3126 - gender_accuracy: 0.4286 - age_accuracy: 0.1643 - val_loss: 2.9252 - val_gender_loss: 0.6935 - val_age_loss: 2.2317 - val_gender_accuracy: 0.5333 - val_age_accuracy: 0.3000\n",
      "Epoch 2/2\n",
      "5/5 [==============================] - 13s 3s/step - loss: 2.7177 - gender_loss: 0.7308 - age_loss: 1.9869 - gender_accuracy: 0.4429 - age_accuracy: 0.3214 - val_loss: 2.7000 - val_gender_loss: 0.6990 - val_age_loss: 2.0010 - val_gender_accuracy: 0.4500 - val_age_accuracy: 0.3000\n",
      "\n",
      "Training on Model: CNN_transfer\n",
      "Epoch 1/2\n",
      "5/5 [==============================] - 44s 8s/step - loss: 0.6954 - accuracy: 0.5500 - val_loss: 0.6869 - val_accuracy: 0.5833\n",
      "Epoch 2/2\n",
      "5/5 [==============================] - 43s 9s/step - loss: 0.6419 - accuracy: 0.6000 - val_loss: 0.6746 - val_accuracy: 0.6000\n",
      "\n"
     ]
    },
    {
     "data": {
      "text/plain": [
       "{'CNN_classic': <keras.callbacks.History at 0x1660183a0>,\n",
       " 'CNN_multitask': <keras.callbacks.History at 0x16501bd60>,\n",
       " 'CNN_transfer': <keras.callbacks.History at 0x1667e9520>}"
      ]
     },
     "execution_count": 31,
     "metadata": {},
     "output_type": "execute_result"
    }
   ],
   "source": [
    "model_classic = CNN_classic()\n",
    "compile_model(model_classic)\n",
    "\n",
    "model_multitask = CNN_multitask(img_size)\n",
    "multitask_loss = {'gender': keras.losses.BinaryCrossentropy(),\n",
    "                'age': keras.losses.SparseCategoricalCrossentropy()}\n",
    "compile_model(model_multitask, multitask_loss)\n",
    "\n",
    "model_transfer = CNN_transfer(img_size)\n",
    "compile_model(model_transfer)\n",
    "\n",
    "\n",
    "model_data = {}\n",
    "model_data[model_classic] = [X_train, gender_train, X_test, gender_test]\n",
    "model_data[model_multitask] =  [X_train, (gender_train, age_train), X_test, (gender_test, age_test)]\n",
    "model_data[model_transfer] = [X_train, gender_train, X_test, gender_test]\n",
    "\n",
    "fit_models(model_data, 2, verbose = 1)\n",
    "\n",
    "              "
   ]
  }
 ],
 "metadata": {
  "kernelspec": {
   "display_name": "Python 3.8.2 ('base')",
   "language": "python",
   "name": "python3"
  },
  "language_info": {
   "codemirror_mode": {
    "name": "ipython",
    "version": 3
   },
   "file_extension": ".py",
   "mimetype": "text/x-python",
   "name": "python",
   "nbconvert_exporter": "python",
   "pygments_lexer": "ipython3",
   "version": "3.8.2"
  },
  "orig_nbformat": 4,
  "vscode": {
   "interpreter": {
    "hash": "40d3a090f54c6569ab1632332b64b2c03c39dcf918b08424e98f38b5ae0af88f"
   }
  }
 },
 "nbformat": 4,
 "nbformat_minor": 2
}
