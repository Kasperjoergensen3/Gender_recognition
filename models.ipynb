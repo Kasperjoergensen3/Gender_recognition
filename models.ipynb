{
 "cells": [
  {
   "cell_type": "code",
   "execution_count": null,
   "metadata": {},
   "outputs": [],
   "source": [
    "import tensorflow as tf\n",
    "from tensorflow import keras\n",
    "from keras import layers\n",
    "import numpy as np\n",
    "from preprocessing import get_preprocessed_dataset"
   ]
  },
  {
   "cell_type": "code",
   "execution_count": null,
   "metadata": {},
   "outputs": [],
   "source": [
    "(\n",
    "X_train,\n",
    "gender_train,\n",
    "age_train,\n",
    "X_test,\n",
    "gender_test,\n",
    "age_test ) = get_preprocessed_dataset(\"data\", n_max = 200)"
   ]
  },
  {
   "cell_type": "code",
   "execution_count": null,
   "metadata": {},
   "outputs": [],
   "source": [
    "# function to create standard CNN network\n",
    "# idea: expand function such that its easy to change the architechture\n",
    "def CNN_classic():\n",
    "    model = keras.Sequential([\n",
    "        layers.Rescaling(1./255),\n",
    "        layers.Conv2D(16, 3, padding='same', activation='relu'),\n",
    "        layers.MaxPooling2D(),\n",
    "        layers.Conv2D(32, 3, padding='same', activation='relu'),\n",
    "        layers.MaxPooling2D(),\n",
    "        layers.Conv2D(64, 3, padding='same', activation='relu'),\n",
    "        layers.MaxPooling2D(),\n",
    "        layers.Flatten(),\n",
    "        layers.Dense(128, activation='relu'),\n",
    "        layers.Dense(1, activation = 'sigmoid')], \n",
    "        name = \"CNN_classic\"\n",
    "    )\n",
    "    return model\n",
    "\n",
    "# function to create the architechture of the multitask network\n",
    "def CNN_multitask(img_size):\n",
    "\n",
    "    inputs = tf.keras.layers.Input(shape=(img_size, img_size, 3), name='input')\n",
    "\n",
    "    main_branch = tf.keras.layers.Conv2D(16, 3, padding = \"same\", activation=\"relu\")(inputs)\n",
    "    main_branch = tf.keras.layers.MaxPooling2D()(main_branch)\n",
    "    main_branch = tf.keras.layers.Conv2D(32, 3, padding = \"same\", activation=\"relu\")(main_branch)\n",
    "    main_branch = tf.keras.layers.MaxPooling2D()(main_branch)\n",
    "    main_branch = tf.keras.layers.Conv2D(64, 3, padding = \"same\", activation=\"relu\")(main_branch)\n",
    "    main_branch = tf.keras.layers.Flatten()(main_branch)\n",
    "    main_branch = tf.keras.layers.Dense(128, activation='relu')(main_branch)\n",
    "\n",
    "    task_1_branch = tf.keras.layers.Dense(256, activation='relu')(main_branch)\n",
    "    task_1_branch = tf.keras.layers.Dense(128, activation='relu')(task_1_branch)\n",
    "    task_1_branch = tf.keras.layers.Dense(1, activation='sigmoid', name='gender')(task_1_branch)\n",
    "\n",
    "    task_2_branch = tf.keras.layers.Dense(256, activation='relu')(main_branch)\n",
    "    task_2_branch = tf.keras.layers.Dense(128, activation='relu')(task_2_branch)\n",
    "    task_2_branch = tf.keras.layers.Dense(8, activation='softmax', name='age')(task_2_branch)\n",
    "\n",
    "    model = tf.keras.Model(inputs = inputs, outputs = [task_1_branch, task_2_branch], name = \"Multitask CNN\")\n",
    "    \n",
    "    return model\n",
    "\n",
    "# create dict of the data split. tool to train all models in same function\n",
    "def create_data_dict(X_train, y_train, X_test, y_test):\n",
    "    return {\"X_train\": X_train, \"y_train\": y_train, \"X_test\": X_test, \"y_test\": y_test}\n",
    "\n",
    "# fit all the models to their respective datasets\n",
    "# ** More arguments to adjust fitting procedure **\n",
    "def fit_models(model_data, no_epochs):\n",
    "\n",
    "    histories = {}\n",
    "    for model,data in model_data.items():\n",
    "        print(f\"Training on Model: {model.name}\")\n",
    "        X_train, y_train, X_test, y_test = data.values()\n",
    "        \n",
    "        histories[model.name] = (model.fit(\n",
    "                                    X_train,\n",
    "                                    y_train,\n",
    "                                    epochs = no_epochs,\n",
    "                                    verbose = 1,\n",
    "                                    validation_data = (X_test,y_test)\n",
    "                                    ))\n",
    "        print()\n",
    "\n",
    "    return histories"
   ]
  },
  {
   "cell_type": "code",
   "execution_count": null,
   "metadata": {},
   "outputs": [],
   "source": [
    "model_classic = CNN_classic()\n",
    "model_classic.compile(\n",
    "    optimizer='adam',\n",
    "    loss=keras.losses.BinaryCrossentropy(),\n",
    "    metrics=['accuracy'])\n",
    "\n",
    "model_multitask = CNN_multitask(224)\n",
    "model_multitask.compile(\n",
    "    optimizer='adam',\n",
    "    loss = {'gender': keras.losses.BinaryCrossentropy(),\n",
    "            'age': keras.losses.SparseCategoricalCrossentropy()},\n",
    "    metrics = ['accuracy'])\n",
    "\n",
    "model_data = {}\n",
    "model_data[model_classic] = create_data_dict(X_train, gender_train, X_test, gender_test)\n",
    "model_data[model_multitask] =  create_data_dict(X_train, (gender_train, age_train), X_test, (gender_test, age_test))\n",
    "\n",
    "fit_models(model_data, 5)\n",
    "              "
   ]
  }
 ],
 "metadata": {
  "kernelspec": {
   "display_name": "Python 3.8.2 ('base')",
   "language": "python",
   "name": "python3"
  },
  "language_info": {
   "codemirror_mode": {
    "name": "ipython",
    "version": 3
   },
   "file_extension": ".py",
   "mimetype": "text/x-python",
   "name": "python",
   "nbconvert_exporter": "python",
   "pygments_lexer": "ipython3",
   "version": "3.8.2"
  },
  "orig_nbformat": 4,
  "vscode": {
   "interpreter": {
    "hash": "40d3a090f54c6569ab1632332b64b2c03c39dcf918b08424e98f38b5ae0af88f"
   }
  }
 },
 "nbformat": 4,
 "nbformat_minor": 2
}
